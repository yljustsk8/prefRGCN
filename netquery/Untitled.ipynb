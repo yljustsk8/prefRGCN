{
 "cells": [
  {
   "cell_type": "code",
   "execution_count": 32,
   "id": "a4d8f8e6",
   "metadata": {},
   "outputs": [],
   "source": [
    "from collections import defaultdict\n",
    "import pickle as pickle\n",
    "from pref_graph import SingleValPreference"
   ]
  },
  {
   "cell_type": "code",
   "execution_count": 33,
   "id": "374aace0",
   "metadata": {},
   "outputs": [],
   "source": [
    "\n",
    "def load_prefs_by_formula(data_file):\n",
    "    raw_info = pickle.load(open(data_file, \"rb\"))\n",
    "    prefs = defaultdict(lambda : defaultdict(list))\n",
    "    for raw_pref in raw_info:\n",
    "        pref = SingleValPreference.deserialize(raw_pref, True)\n",
    "        prefs[pref.formula.pref_type][pref.formula].append(pref)\n",
    "    return prefs\n"
   ]
  },
  {
   "cell_type": "code",
   "execution_count": null,
   "id": "71e3ca07",
   "metadata": {},
   "outputs": [],
   "source": [
    "train_prefs = defaultdict(lambda : defaultdict(list))\n",
    "for i in range(1, 4):\n",
    "    i_train_prefs = load_prefs_by_formula(\"E:/workspace/PycharmWorkspace/gqe3/netquery/bio/bio_data/\" + \"preference2/train_pref_{:d}.pkl\".format(i))\n",
    "    train_prefs.update(i_train_prefs)\n"
   ]
  },
  {
   "cell_type": "code",
   "execution_count": 35,
   "id": "50eaf5e1",
   "metadata": {},
   "outputs": [
    {
     "name": "stdout",
     "output_type": "stream",
     "text": [
      "dict_keys(['UIUP-1', 'UIUP-2', 'UICP-2', 'UIUP-3', 'CICP-3', 'CIUP-3a', 'CIUP-3b'])\n"
     ]
    }
   ],
   "source": [
    "print(train_prefs.keys())"
   ]
  },
  {
   "cell_type": "code",
   "execution_count": 46,
   "id": "c0b5f80e",
   "metadata": {},
   "outputs": [
    {
     "name": "stdout",
     "output_type": "stream",
     "text": [
      "0\n",
      "20000\n"
     ]
    }
   ],
   "source": [
    "count = 0\n",
    "count1 = 0\n",
    "for formula in train_prefs[\"UIUP-3\"]:\n",
    "    for pref in train_prefs[\"UIUP-3\"][formula]:\n",
    "        count1 += 1\n",
    "        for se in pref.sampled_entities:\n",
    "            if len(se) == 0:\n",
    "                count += 1\n",
    "                break\n",
    "print(count)\n",
    "print(count1)"
   ]
  },
  {
   "cell_type": "code",
   "execution_count": 47,
   "id": "23c04333",
   "metadata": {},
   "outputs": [
    {
     "name": "stdout",
     "output_type": "stream",
     "text": [
      "0\n"
     ]
    }
   ],
   "source": [
    "count = 0\n",
    "for key in train_prefs:\n",
    "    for formula in train_prefs[key]:\n",
    "        if len(train_prefs[key][formula]) == 0:\n",
    "            count += 1\n",
    "print(count)"
   ]
  },
  {
   "cell_type": "code",
   "execution_count": 43,
   "id": "d4e0048a",
   "metadata": {},
   "outputs": [
    {
     "name": "stdout",
     "output_type": "stream",
     "text": [
      "(('function', '0', 'function'),)\n",
      "(('drug', 'struct_sim', 'drug'),)\n",
      "(('protein', 'activation', 'protein'),)\n",
      "(('disease', '0', 'protein'),)\n",
      "(('sideeffects', '0', 'drug'),)\n",
      "(('protein', '0', 'function'),)\n",
      "(('function', '0', 'protein'),)\n",
      "(('protein', 'binding', 'protein'),)\n",
      "(('protein', 'expression', 'protein'),)\n",
      "(('protein', '0', 'disease'),)\n",
      "(('protein', '0', 'drug'),)\n",
      "(('drug', '0', 'protein'),)\n",
      "(('protein', 'catalysis', 'protein'),)\n",
      "(('protein', 'inhibition', 'protein'),)\n",
      "(('protein', 'reaction', 'protein'),)\n",
      "(('disease', '0', 'drug'),)\n",
      "(('drug', 'bacterial_infectious_disease', 'drug'),)\n",
      "(('drug', 'benign_neoplasm', 'drug'),)\n",
      "(('drug', '0', 'disease'),)\n",
      "(('drug', 'cardiovascular_system_disease', 'drug'),)\n",
      "(('drug', 'sexual_disorder', 'drug'),)\n",
      "(('drug', 'developmental_disorder_of_mental_health', 'drug'),)\n",
      "(('drug', 'immune_system_disease', 'drug'),)\n",
      "(('drug', 'urinary_system_disease', 'drug'),)\n",
      "(('protein', 'ptmod', 'protein'),)\n",
      "(('drug', 'hematopoietic_system_disease', 'drug'),)\n",
      "(('drug', 'sleep_disorder', 'drug'),)\n",
      "(('drug', 'psoriatic_arthritis', 'drug'),)\n",
      "(('drug', '0', 'sideeffects'),)\n",
      "(('drug', 'nervous_system_disease', 'drug'),)\n",
      "(('drug', 'inherited_metabolic_disorder', 'drug'),)\n",
      "(('drug', 'fungal_infectious_disease', 'drug'),)\n",
      "(('drug', 'cognitive_disorder', 'drug'),)\n",
      "(('drug', 'integumentary_system_disease', 'drug'),)\n",
      "(('drug', 'musculoskeletal_system_disease', 'drug'),)\n",
      "(('drug', 'acquired_metabolic_disease', 'drug'),)\n",
      "(('drug', 'irritable_bowel_syndrome', 'drug'),)\n",
      "(('drug', 'gastrointestinal_system_disease', 'drug'),)\n",
      "(('drug', 'viral_infectious_disease', 'drug'),)\n",
      "(('drug', 'respiratory_system_disease', 'drug'),)\n",
      "(('drug', 'somatoform_disorder', 'drug'),)\n",
      "(('drug', 'cancer', 'drug'),)\n",
      "(('drug', 'orofacial_cleft', 'drug'),)\n",
      "(('drug', 'monogenic_disease', 'drug'),)\n",
      "(('drug', 'endocrine_system_disease', 'drug'),)\n",
      "(('drug', 'hematopoietic_system_diseases', 'drug'),)\n",
      "(('drug', 'reproductive_system_disease', 'drug'),)\n",
      "(('drug', 'thoracic_disease', 'drug'),)\n",
      "(('drug', 'substance-related_disorder', 'drug'),)\n",
      "(('drug', 'pre-malignant_neoplasm', 'drug'),)\n"
     ]
    }
   ],
   "source": []
  },
  {
   "cell_type": "code",
   "execution_count": null,
   "id": "f38556bf",
   "metadata": {},
   "outputs": [],
   "source": []
  }
 ],
 "metadata": {
  "kernelspec": {
   "display_name": "Python 3 (ipykernel)",
   "language": "python",
   "name": "python3"
  },
  "language_info": {
   "codemirror_mode": {
    "name": "ipython",
    "version": 3
   },
   "file_extension": ".py",
   "mimetype": "text/x-python",
   "name": "python",
   "nbconvert_exporter": "python",
   "pygments_lexer": "ipython3",
   "version": "3.9.12"
  }
 },
 "nbformat": 4,
 "nbformat_minor": 5
}
